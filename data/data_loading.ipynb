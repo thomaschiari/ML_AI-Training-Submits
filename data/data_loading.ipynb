{
 "cells": [
  {
   "cell_type": "markdown",
   "metadata": {},
   "source": [
    "# Data Loading \n",
    "\n",
    "Escolha o dataset que deseja utilizar, rode o script referente a ele e os dados estarão salvos no diretório. Lembre-se de alterar os notebooks para que leiam os dados corretos (ex: se você rodou o script de carregar o dataset 1, altere o notebook para ler o dataset 1). Vamos utilizar, aqui, datasets disponíveis no UCI Machine Learning Repository, um repositório com uma coleção de bases de dados abertas para a comunidade de Machine Learning."
   ]
  },
  {
   "cell_type": "code",
   "execution_count": 1,
   "metadata": {},
   "outputs": [],
   "source": [
    "try: \n",
    "    import requests\n",
    "except ModuleNotFoundError:\n",
    "    %pip install requests --quiet"
   ]
  },
  {
   "cell_type": "code",
   "execution_count": 2,
   "metadata": {},
   "outputs": [
    {
     "name": "stdout",
     "output_type": "stream",
     "text": [
      "Note: you may need to restart the kernel to use updated packages.\n"
     ]
    }
   ],
   "source": [
    "try:\n",
    "    import ucimlrepo\n",
    "except ModuleNotFoundError:\n",
    "    %pip install ucimlrepo --quiet"
   ]
  },
  {
   "cell_type": "code",
   "execution_count": 19,
   "metadata": {},
   "outputs": [],
   "source": [
    "import pandas as pd\n",
    "from ucimlrepo import fetch_ucirepo\n",
    "import os\n",
    "import requests\n",
    "\n",
    "PATH = os.getcwd()"
   ]
  },
  {
   "cell_type": "markdown",
   "metadata": {},
   "source": [
    "### Dataset 1: Adult\n",
    "Dataset com dados de 48842 pessoas, com 14 atributos cada. O objetivo é prever se a renda de uma pessoa é maior ou menor que 50k dólares por ano. Se trata de um problema de classificação. Encontre mais informações sobre o dataset [aqui](https://archive.ics.uci.edu/dataset/2/adult).\n",
    "\n",
    "Créditos:\n",
    "\n",
    "Becker,Barry and Kohavi,Ronny. (1996). Adult. UCI Machine Learning Repository. https://doi.org/10.24432/C5XW20."
   ]
  },
  {
   "cell_type": "code",
   "execution_count": 6,
   "metadata": {},
   "outputs": [],
   "source": [
    "adult = fetch_ucirepo(id=2) \n",
    "  \n",
    "X = adult.data.features \n",
    "y = adult.data.targets \n",
    "\n",
    "df = pd.concat([X, y], axis=1)\n",
    "if not os.path.exists(PATH + '/adult'):\n",
    "    os.makedirs(PATH + '/adult')\n",
    "df.to_csv(PATH + '/adult/adult.csv', index=False)"
   ]
  },
  {
   "cell_type": "markdown",
   "metadata": {},
   "source": [
    "### Dataset 2: Spambase\n",
    "\n",
    "Dataset com dados de 4601 emails, com 57 atributos cada. O objetivo é prever se um email é spam ou não. Se trata de um problema de classificação. Encontre mais informações sobre o dataset [aqui](https://archive.ics.uci.edu/dataset/94/spambase).\n",
    "\n",
    "Créditos:\n",
    "\n",
    "Hopkins,Mark, Reeber,Erik, Forman,George, and Suermondt,Jaap. (1999). Spambase. UCI Machine Learning Repository. https://doi.org/10.24432/C53G6X."
   ]
  },
  {
   "cell_type": "code",
   "execution_count": 7,
   "metadata": {},
   "outputs": [],
   "source": [
    "spambase = fetch_ucirepo(id=94) \n",
    "  \n",
    "X = spambase.data.features \n",
    "y = spambase.data.targets\n",
    "\n",
    "df = pd.concat([X, y], axis=1)\n",
    "if not os.path.exists(PATH + '/spambase'):\n",
    "    os.makedirs(PATH + '/spambase')\n",
    "df.to_csv(PATH + '/spambase/spambase.csv', index=False)"
   ]
  },
  {
   "cell_type": "markdown",
   "metadata": {},
   "source": [
    "### Dataset 3: Mushroom\n",
    "\n",
    "Dataset com dados de 8124 cogumelos, com 22 atributos cada. O objetivo é prever se um cogumelo é venenoso ou não. Se trata de um problema de classificação. Encontre mais informações sobre o dataset [aqui](https://archive.ics.uci.edu/dataset/73/mushroom).\n",
    "\n",
    "Créditos:\n",
    "\n",
    "Mushroom. (1987). UCI Machine Learning Repository. https://doi.org/10.24432/C5959T."
   ]
  },
  {
   "cell_type": "code",
   "execution_count": 8,
   "metadata": {},
   "outputs": [],
   "source": [
    "mushroom = fetch_ucirepo(id=73) \n",
    "\n",
    "X = mushroom.data.features \n",
    "y = mushroom.data.targets \n",
    "\n",
    "df = pd.concat([X, y], axis=1)\n",
    "if not os.path.exists(PATH + '/mushroom'):\n",
    "    os.makedirs(PATH + '/mushroom')\n",
    "df.to_csv(PATH + '/mushroom/mushroom.csv', index=False)"
   ]
  },
  {
   "cell_type": "markdown",
   "metadata": {},
   "source": [
    "### Dataset 4: Statlog (German Credit Data)\n",
    "\n",
    "Dataset com dados de 1000 pessoas, com 20 atributos cada. O objetivo é prever se um cliente é bom ou mau pagador. Se trata de um problema de classificação. Encontre mais informações sobre o dataset [aqui](https://archive.ics.uci.edu/dataset/144/statlog+german+credit+data).\n",
    "\n",
    "Créditos:\n",
    "\n",
    "Hofmann,Hans. (1994). Statlog (German Credit Data). UCI Machine Learning Repository. https://doi.org/10.24432/C5NC77."
   ]
  },
  {
   "cell_type": "code",
   "execution_count": 9,
   "metadata": {},
   "outputs": [],
   "source": [
    "statlog_german_credit_data = fetch_ucirepo(id=144) \n",
    "\n",
    "X = statlog_german_credit_data.data.features \n",
    "y = statlog_german_credit_data.data.targets\n",
    "\n",
    "df = pd.concat([X, y], axis=1)\n",
    "if not os.path.exists(PATH + '/stat_credit'):\n",
    "    os.makedirs(PATH + '/stat_credit')\n",
    "df.to_csv(PATH + '/stat_credit/stat_credit.csv', index=False)"
   ]
  },
  {
   "cell_type": "markdown",
   "metadata": {},
   "source": [
    "### Dataset 5: Abalone\n",
    "\n",
    "Dataset com dados de 4177 abalones, com 8 atributos cada. O objetivo é prever a idade de um abalone. Se trata de um problema de regressão. Encontre mais informações sobre o dataset [aqui](https://archive.ics.uci.edu/dataset/1/abalone).\n",
    "\n",
    "Créditos:\n",
    "\n",
    "Nash,Warwick, Sellers,Tracy, Talbot,Simon, Cawthorn,Andrew, and Ford,Wes. (1995). Abalone. UCI Machine Learning Repository. https://doi.org/10.24432/C55C7W."
   ]
  },
  {
   "cell_type": "code",
   "execution_count": 10,
   "metadata": {},
   "outputs": [],
   "source": [
    "abalone = fetch_ucirepo(id=1) \n",
    "  \n",
    "X = abalone.data.features \n",
    "y = abalone.data.targets \n",
    "\n",
    "df = pd.concat([X, y], axis=1)\n",
    "if not os.path.exists(PATH + '/abalone'):\n",
    "    os.makedirs(PATH + '/abalone')\n",
    "df.to_csv(PATH + '/abalone/abalone.csv', index=False)"
   ]
  },
  {
   "cell_type": "markdown",
   "metadata": {},
   "source": [
    "### Dataset 6: Auto MPG\n",
    "\n",
    "Dataset com dados de 398 carros, com 7 atributos cada. O objetivo é prever a eficiência de combustível de um carro. Se trata de um problema de regressão. Encontre mais informações sobre o dataset [aqui](https://archive.ics.uci.edu/dataset/9/auto+mpg).\n",
    "\n",
    "Créditos:\n",
    "\n",
    "Quinlan,R.. (1993). Auto MPG. UCI Machine Learning Repository. https://doi.org/10.24432/C5859H."
   ]
  },
  {
   "cell_type": "code",
   "execution_count": 11,
   "metadata": {},
   "outputs": [],
   "source": [
    "auto_mpg = fetch_ucirepo(id=9) \n",
    "  \n",
    "X = auto_mpg.data.features \n",
    "y = auto_mpg.data.targets \n",
    "\n",
    "df = pd.concat([X, y], axis=1)\n",
    "if not os.path.exists(PATH + '/auto_mpg'):\n",
    "    os.makedirs(PATH + '/auto_mpg')\n",
    "df.to_csv(PATH + '/auto_mpg/auto_mpg.csv', index=False)"
   ]
  },
  {
   "cell_type": "markdown",
   "metadata": {},
   "source": [
    "### Dataset 7: Liver Disorders\n",
    "\n",
    "Dataset com dados de 345 pacientes, com 5 atributos cada. O objetivo é prever quanto álcool um paciente consumiu. Se trata de um problema de regressão. Encontre mais informações sobre o dataset [aqui](https://archive.ics.uci.edu/dataset/60/liver+disorders). Vale notar que a variável \"selector\" é um atributo criado pelos pesquisadores para realizar o `train test split` dos dados, e não deve ser utilizada.\n",
    "\n",
    "Créditos:\n",
    "\n",
    "Liver Disorders. (1990). UCI Machine Learning Repository. https://doi.org/10.24432/C54G67."
   ]
  },
  {
   "cell_type": "code",
   "execution_count": 12,
   "metadata": {},
   "outputs": [],
   "source": [
    "liver_disorders = fetch_ucirepo(id=60) \n",
    "  \n",
    "X = liver_disorders.data.features \n",
    "y = liver_disorders.data.targets \n",
    "\n",
    "df = pd.concat([X, y], axis=1)\n",
    "if not os.path.exists(PATH + '/liver'):\n",
    "    os.makedirs(PATH + '/liver')\n",
    "df.to_csv(PATH + '/liver/liver.csv', index=False)"
   ]
  },
  {
   "cell_type": "markdown",
   "metadata": {},
   "source": [
    "### Dataset Desafio: Forest Fires\n",
    "\n",
    "Dataset com dados de 517 incêndios florestais. O objetivo é prever a área queimada por um incêndio. Se trata de um problema de regressão. Encontre mais informações sobre o dataset [aqui](https://archive.ics.uci.edu/dataset/162/forest+fires).\n",
    "\n",
    "Créditos:\n",
    "\n",
    "Cortez,Paulo and Morais,Anbal. (2008). Forest Fires. UCI Machine Learning Repository. https://doi.org/10.24432/C5D88D."
   ]
  },
  {
   "cell_type": "code",
   "execution_count": 16,
   "metadata": {},
   "outputs": [],
   "source": [
    "import zipfile, io\n",
    "r = requests.get('https://archive.ics.uci.edu/static/public/162/forest+fires.zip')\n",
    "z = zipfile.ZipFile(io.BytesIO(r.content))\n",
    "\n",
    "if not os.path.exists(PATH + '/forest_fires'):\n",
    "    os.makedirs(PATH + '/forest_fires')\n",
    "\n",
    "z.extractall(PATH + '/forest_fires')"
   ]
  },
  {
   "cell_type": "markdown",
   "metadata": {},
   "source": [
    "**Nota:**\n",
    "\n",
    "Caso encontre algum outro Dataset que julgar interessante e que não esteja na lista, sinta-se livre para utilizá-lo. Os datasets listados são apenas sugestões para facilitar o processo de escolha. Não esqueça de citar a fonte do dataset utilizado. Pode verificar, inclusive, outros repositórios, como [Kaggle](https://www.kaggle.com/datasets) e [Google Dataset Search](https://datasetsearch.research.google.com/)."
   ]
  }
 ],
 "metadata": {
  "kernelspec": {
   "display_name": "ml_ai-exercises",
   "language": "python",
   "name": "python3"
  },
  "language_info": {
   "codemirror_mode": {
    "name": "ipython",
    "version": 3
   },
   "file_extension": ".py",
   "mimetype": "text/x-python",
   "name": "python",
   "nbconvert_exporter": "python",
   "pygments_lexer": "ipython3",
   "version": "3.11.4"
  },
  "orig_nbformat": 4
 },
 "nbformat": 4,
 "nbformat_minor": 2
}
