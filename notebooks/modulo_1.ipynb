{
 "cells": [
  {
   "cell_type": "markdown",
   "metadata": {},
   "source": [
    "# Módulo 01: Análise Exploratória e Pré-Processamento de Dados\n",
    "\n",
    "Para acessar o conteúdo do módulo 01, clique [aqui](https://thomaschiari.github.io/ML_AI-Training/modulo1/). Fique a vontade para utilizar o notebook da maneira que quisar, mas lembre-se de que ele foi feito para ser utilizado em conjunto com o conteúdo do módulo atual."
   ]
  }
 ],
 "metadata": {
  "language_info": {
   "name": "python"
  },
  "orig_nbformat": 4
 },
 "nbformat": 4,
 "nbformat_minor": 2
}
